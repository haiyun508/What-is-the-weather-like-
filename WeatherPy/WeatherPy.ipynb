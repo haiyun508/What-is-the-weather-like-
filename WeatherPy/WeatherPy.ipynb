{
 "cells": [
  {
   "cell_type": "markdown",
   "metadata": {},
   "source": [
    "# WeatherPy"
   ]
  },
  {
   "cell_type": "markdown",
   "metadata": {},
   "source": [
    "Three trends observed in this data analysis:\n",
    "1.A city's max temperature has a strong relation with its latitude, the closer to the equator, the higher max temperature the city has\n",
    "2.A city's humidity,cloudiness and wind speed has weak relation with its latitude. \n",
    "3.Compared to cities further from equator,cities close to equator has high temperature, high humidity and vary little in windspeed.\n"
   ]
  },
  {
   "cell_type": "code",
   "execution_count": 1,
   "metadata": {
    "scrolled": true
   },
   "outputs": [],
   "source": [
    "# Dependencies and Setup\n",
    "import matplotlib.pyplot as plt\n",
    "import pandas as pd\n",
    "import numpy as np\n",
    "import requests\n",
    "import time\n",
    "import scipy.stats as st\n",
    "from scipy.stats import linregress\n",
    "from pprint import pprint\n",
    "from datetime import datetime\n",
    "\n",
    "\n",
    "# Import API key\n",
    "from config import key_dict\n",
    "weather_api_key=key_dict[\"OpenWeatherMap\"]\n",
    "# Incorporated citipy to determine city based on latitude and longitude\n",
    "from citipy import citipy\n",
    "\n",
    "# Output File (CSV)\n",
    "output_data_file = \"output_data/cities.csv\"\n",
    "\n",
    "# Range of latitudes and longitudes\n",
    "lat_range = (-90, 90)\n",
    "lng_range = (-180, 180)"
   ]
  },
  {
   "cell_type": "markdown",
   "metadata": {},
   "source": [
    "## Generate Cities List"
   ]
  },
  {
   "cell_type": "code",
   "execution_count": 2,
   "metadata": {},
   "outputs": [
    {
     "data": {
      "text/plain": [
       "608"
      ]
     },
     "execution_count": 2,
     "metadata": {},
     "output_type": "execute_result"
    }
   ],
   "source": [
    "# List for holding lat_lngs and cities\n",
    "lat_lngs = []\n",
    "cities = []\n",
    "\n",
    "# Create a set of random lat and lng combinations\n",
    "lats = np.random.uniform(lat_range[0], lat_range[1], size=1500)\n",
    "lngs = np.random.uniform(lng_range[0], lng_range[1], size=1500)\n",
    "lat_lngs = zip(lats, lngs)\n",
    "# Identify nearest city for each lat, lng combination\n",
    "for lat_lng in lat_lngs:\n",
    "    city = citipy.nearest_city(lat_lng[0], lat_lng[1]).city_name \n",
    " # If the city is unique, then add it to a our cities list\n",
    "    if city not in cities:\n",
    "        cities.append(city)\n",
    "\n",
    "# Print the city count to confirm sufficient count\n",
    "len(cities)"
   ]
  },
  {
   "cell_type": "markdown",
   "metadata": {},
   "source": [
    "### Perform API Calls\n",
    "* Perform a weather check on each city using a series of successive API calls.\n",
    "* Include a print log of each city as it'sbeing processed (with the city number and city name)."
   ]
  },
  {
   "cell_type": "code",
   "execution_count": 4,
   "metadata": {},
   "outputs": [
    {
     "name": "stdout",
     "output_type": "stream",
     "text": [
      "Beginning Data Retrieval\n",
      "-------------------------\n",
      "Processing Record 1 of Set 1 | Hanstholm\n",
      "Processing Record 2 of Set 1 | Bambous Virieux\n",
      "Processing Record 3 of Set 1 | Nueva Guinea\n",
      "Processing Record 4 of Set 1 | Boa Vista\n",
      "Processing Record 5 of Set 1 | Virginia Beach\n",
      "Processing Record 6 of Set 1 | Busselton\n",
      "Processing Record 7 of Set 1 | Saskylakh\n",
      "Processing Record 8 of Set 1 | Mukhen\n",
      "Processing Record 9 of Set 1 | Ushuaia\n",
      "Processing Record 10 of Set 1 | Meulaboh\n",
      "Processing Record 11 of Set 1 | Morondava\n",
      "Processing Record 12 of Set 1 | Hasaki\n",
      "Processing Record 13 of Set 1 | Dale\n",
      "Processing Record 14 of Set 1 | Ribeira Grande\n",
      "Processing Record 15 of Set 1 | Ol'ga\n",
      "Processing Record 16 of Set 1 | Merauke\n",
      "Processing Record 17 of Set 1 | Bluff\n",
      "Processing Record 18 of Set 1 | Vaini\n",
      "Processing Record 19 of Set 1 | Port Augusta\n",
      "Processing Record 20 of Set 1 | Mataura\n",
      "Processing Record 21 of Set 1 | Luba\n",
      "Processing Record 22 of Set 1 | Kapaa\n",
      "Processing Record 23 of Set 1 | Arraial do Cabo\n",
      "Processing Record 24 of Set 1 | Seymchan\n",
      "City not found. Skipping...\n",
      "City not found. Skipping...\n",
      "City not found. Skipping...\n",
      "Processing Record 25 of Set 1 | Luanda\n",
      "City not found. Skipping...\n",
      "Processing Record 26 of Set 1 | Lüderitz\n",
      "Processing Record 27 of Set 1 | Amberley\n",
      "Processing Record 28 of Set 1 | Chui\n",
      "Processing Record 29 of Set 1 | Orange Cove\n",
      "Processing Record 30 of Set 1 | Aden\n",
      "City not found. Skipping...\n",
      "Processing Record 31 of Set 1 | Esperance\n",
      "Processing Record 32 of Set 1 | Rikitea\n",
      "Processing Record 33 of Set 1 | Lexington\n",
      "Processing Record 34 of Set 1 | Laguna\n",
      "Processing Record 35 of Set 1 | Hermanus\n",
      "Processing Record 36 of Set 1 | Punta Arenas\n",
      "City not found. Skipping...\n",
      "Processing Record 37 of Set 1 | Cape Town\n",
      "Processing Record 38 of Set 1 | Castro\n",
      "Processing Record 39 of Set 1 | Todos Santos\n",
      "Processing Record 40 of Set 1 | Pisco\n",
      "Processing Record 41 of Set 1 | Valdivia\n",
      "Processing Record 42 of Set 1 | Norman Wells\n",
      "Processing Record 43 of Set 1 | Jamestown\n",
      "Processing Record 44 of Set 1 | Hobart\n",
      "Processing Record 45 of Set 1 | Mar del Plata\n",
      "Processing Record 46 of Set 1 | Kisangani\n",
      "Processing Record 47 of Set 1 | Dano\n",
      "Processing Record 48 of Set 1 | Knysna\n",
      "Processing Record 49 of Set 1 | Albany\n",
      "Processing Record 50 of Set 1 | Zhob\n",
      "Processing Record 1 of Set 2 | Hofn\n",
      "Processing Record 2 of Set 2 | Saint-Philippe\n",
      "Processing Record 3 of Set 2 | Thompson\n",
      "Processing Record 4 of Set 2 | San Cristobal\n",
      "Processing Record 5 of Set 2 | La Ronge\n",
      "Processing Record 6 of Set 2 | Kavieng\n",
      "Processing Record 7 of Set 2 | Khāsh\n",
      "Processing Record 8 of Set 2 | Gravelbourg\n",
      "Processing Record 9 of Set 2 | Gwadar\n",
      "Processing Record 10 of Set 2 | Kroonstad\n",
      "Processing Record 11 of Set 2 | Talcahuano\n",
      "Processing Record 12 of Set 2 | Lompoc\n",
      "Processing Record 13 of Set 2 | Pemangkat\n",
      "Processing Record 14 of Set 2 | Planadas\n",
      "Processing Record 15 of Set 2 | Upernavik\n",
      "Processing Record 16 of Set 2 | Longyearbyen\n",
      "Processing Record 17 of Set 2 | Allāpalli\n",
      "Processing Record 18 of Set 2 | Barrow\n",
      "City not found. Skipping...\n",
      "Processing Record 19 of Set 2 | Watsa\n",
      "Processing Record 20 of Set 2 | Praia da Vitória\n",
      "Processing Record 21 of Set 2 | Assiniboia\n",
      "Processing Record 22 of Set 2 | Tabas\n",
      "Processing Record 23 of Set 2 | Bad Soden-Salmünster\n",
      "Processing Record 24 of Set 2 | Torbay\n",
      "Processing Record 25 of Set 2 | Asău\n",
      "Processing Record 26 of Set 2 | Nālūt\n",
      "Processing Record 27 of Set 2 | Lovozero\n",
      "Processing Record 28 of Set 2 | Tuktoyaktuk\n",
      "Processing Record 29 of Set 2 | Nuevo Progreso\n",
      "Processing Record 30 of Set 2 | Lavrentiya\n",
      "Processing Record 31 of Set 2 | Berlevåg\n",
      "Processing Record 32 of Set 2 | Chokurdakh\n",
      "Processing Record 33 of Set 2 | Hilo\n",
      "Processing Record 34 of Set 2 | Airai\n",
      "City not found. Skipping...\n",
      "Processing Record 35 of Set 2 | Atuona\n",
      "Processing Record 36 of Set 2 | Bengkulu\n",
      "Processing Record 37 of Set 2 | Puerto Cabezas\n",
      "Processing Record 38 of Set 2 | Nikolskoye\n",
      "City not found. Skipping...\n",
      "City not found. Skipping...\n",
      "Processing Record 39 of Set 2 | Port Elizabeth\n",
      "Processing Record 40 of Set 2 | Aklavik\n",
      "Processing Record 41 of Set 2 | Peniche\n",
      "City not found. Skipping...\n",
      "Processing Record 42 of Set 2 | New Norfolk\n",
      "Processing Record 43 of Set 2 | Cabedelo\n",
      "Processing Record 44 of Set 2 | Evensk\n",
      "Processing Record 45 of Set 2 | Red Bluff\n",
      "Processing Record 46 of Set 2 | Okhotsk\n",
      "Processing Record 47 of Set 2 | Robinsonville\n",
      "Processing Record 48 of Set 2 | Tiznit Province\n",
      "Processing Record 49 of Set 2 | Avarua\n",
      "Processing Record 50 of Set 2 | Zambezi\n",
      "Processing Record 1 of Set 3 | Puerto Ayora\n",
      "City not found. Skipping...\n",
      "Processing Record 2 of Set 3 | Cockburn Town\n",
      "Processing Record 3 of Set 3 | Bathsheba\n",
      "Processing Record 4 of Set 3 | Qasigiannguit\n",
      "Processing Record 5 of Set 3 | Sterling\n",
      "Processing Record 6 of Set 3 | Kruisfontein\n",
      "City not found. Skipping...\n",
      "Processing Record 7 of Set 3 | Adrar\n",
      "Processing Record 8 of Set 3 | Qaqortoq\n",
      "Processing Record 9 of Set 3 | Constitución\n",
      "Processing Record 10 of Set 3 | Rancho Palos Verdes\n",
      "Processing Record 11 of Set 3 | Port Alfred\n",
      "Processing Record 12 of Set 3 | Margate\n",
      "Processing Record 13 of Set 3 | Sorong\n",
      "City not found. Skipping...\n",
      "Processing Record 14 of Set 3 | Umluj\n",
      "Processing Record 15 of Set 3 | Cidreira\n",
      "Processing Record 16 of Set 3 | Boden\n",
      "Processing Record 17 of Set 3 | Dzerzhinskoye\n",
      "Processing Record 18 of Set 3 | Agüimes\n",
      "Processing Record 19 of Set 3 | Vranje\n",
      "Processing Record 20 of Set 3 | Yeppoon\n",
      "Processing Record 21 of Set 3 | San Pedro de Urabá\n",
      "Processing Record 22 of Set 3 | Samarai\n",
      "Processing Record 23 of Set 3 | Saint-Augustin\n",
      "City not found. Skipping...\n",
      "Processing Record 24 of Set 3 | Nantucket\n",
      "City not found. Skipping...\n",
      "Processing Record 25 of Set 3 | Codrington\n",
      "Processing Record 26 of Set 3 | Guerrero Negro\n",
      "Processing Record 27 of Set 3 | Lander\n",
      "Processing Record 28 of Set 3 | Tukuyu\n",
      "Processing Record 29 of Set 3 | Kyra\n",
      "Processing Record 30 of Set 3 | Chauk\n",
      "City not found. Skipping...\n",
      "Processing Record 31 of Set 3 | Charters Towers\n",
      "Processing Record 32 of Set 3 | Marawi\n",
      "Processing Record 33 of Set 3 | Lixouri\n",
      "Processing Record 34 of Set 3 | Mount Isa\n",
      "Processing Record 35 of Set 3 | Palauig\n",
      "Processing Record 36 of Set 3 | Maniitsoq\n",
      "Processing Record 37 of Set 3 | Faanui\n",
      "City not found. Skipping...\n",
      "Processing Record 38 of Set 3 | Port-Gentil\n",
      "City not found. Skipping...\n",
      "Processing Record 39 of Set 3 | Pevek\n",
      "Processing Record 40 of Set 3 | Porto Belo\n",
      "Processing Record 41 of Set 3 | Cabo San Lucas\n",
      "Processing Record 42 of Set 3 | Dikson\n",
      "Processing Record 43 of Set 3 | Cocorit\n",
      "Processing Record 44 of Set 3 | Westport\n",
      "Processing Record 45 of Set 3 | Naze\n",
      "Processing Record 46 of Set 3 | Moen\n",
      "Processing Record 47 of Set 3 | Bethel\n",
      "Processing Record 48 of Set 3 | Qaanaaq\n",
      "Processing Record 49 of Set 3 | Kavaratti\n",
      "Processing Record 50 of Set 3 | Hirara\n",
      "Processing Record 1 of Set 4 | Kroya\n",
      "Processing Record 2 of Set 4 | Upata\n",
      "Processing Record 3 of Set 4 | Libreville\n",
      "Processing Record 4 of Set 4 | Karratha\n",
      "Processing Record 5 of Set 4 | Phagwāra\n",
      "Processing Record 6 of Set 4 | Yellowknife\n",
      "Processing Record 7 of Set 4 | Harindānga\n",
      "Processing Record 8 of Set 4 | Tual\n",
      "Processing Record 9 of Set 4 | Uruguaiana\n",
      "Processing Record 10 of Set 4 | Brae\n",
      "Processing Record 11 of Set 4 | Hong Kong\n",
      "Processing Record 12 of Set 4 | Dalby\n",
      "Processing Record 13 of Set 4 | Progreso\n",
      "Processing Record 14 of Set 4 | Luena\n",
      "Processing Record 15 of Set 4 | Butaritari\n",
      "Processing Record 16 of Set 4 | Sola\n",
      "Processing Record 17 of Set 4 | Tougan\n",
      "City not found. Skipping...\n",
      "Processing Record 18 of Set 4 | Coquimbo\n",
      "Processing Record 19 of Set 4 | Katsuura\n",
      "City not found. Skipping...\n",
      "Processing Record 20 of Set 4 | Semey\n",
      "Processing Record 21 of Set 4 | Litein\n",
      "Processing Record 22 of Set 4 | Darhan\n",
      "Processing Record 23 of Set 4 | Ahipara\n",
      "Processing Record 24 of Set 4 | Grindavik\n",
      "Processing Record 25 of Set 4 | Makiwalo\n",
      "Processing Record 26 of Set 4 | Tiksi\n",
      "Processing Record 27 of Set 4 | Foz do Iguaçu\n",
      "Processing Record 28 of Set 4 | Tasiilaq\n",
      "Processing Record 29 of Set 4 | Broken Hill\n",
      "City not found. Skipping...\n",
      "Processing Record 30 of Set 4 | Souillac\n",
      "City not found. Skipping...\n",
      "Processing Record 31 of Set 4 | Bonavista\n",
      "Processing Record 32 of Set 4 | Inuvik\n",
      "Processing Record 33 of Set 4 | Saint-Paul\n"
     ]
    },
    {
     "name": "stdout",
     "output_type": "stream",
     "text": [
      "Processing Record 34 of Set 4 | Ginda\n",
      "Processing Record 35 of Set 4 | Madang\n",
      "Processing Record 36 of Set 4 | Fortuna\n",
      "Processing Record 37 of Set 4 | Grand Gaube\n",
      "Processing Record 38 of Set 4 | Roald\n",
      "Processing Record 39 of Set 4 | Mossamedes\n",
      "Processing Record 40 of Set 4 | Isangel\n",
      "Processing Record 41 of Set 4 | Lebyazh'ye\n",
      "Processing Record 42 of Set 4 | Olafsvik\n",
      "Processing Record 43 of Set 4 | Ajdabiya\n",
      "Processing Record 44 of Set 4 | Kahului\n",
      "Processing Record 45 of Set 4 | Verāval\n",
      "Processing Record 46 of Set 4 | Velasco Ibarra\n",
      "Processing Record 47 of Set 4 | Mafinga\n",
      "Processing Record 48 of Set 4 | Provideniya\n",
      "Processing Record 49 of Set 4 | Saint Paul Harbor\n",
      "City not found. Skipping...\n",
      "Processing Record 50 of Set 4 | Jackson\n",
      "Processing Record 1 of Set 5 | Kaitangata\n",
      "Processing Record 2 of Set 5 | Harper\n",
      "City not found. Skipping...\n",
      "Processing Record 3 of Set 5 | Puerto Madero\n",
      "Processing Record 4 of Set 5 | Buala\n",
      "Processing Record 5 of Set 5 | Morón\n",
      "Processing Record 6 of Set 5 | Muscle Shoals\n",
      "Processing Record 7 of Set 5 | Olovyannaya\n",
      "Processing Record 8 of Set 5 | Caravelas\n",
      "Processing Record 9 of Set 5 | Hithadhoo\n",
      "Processing Record 10 of Set 5 | Puerto del Rosario\n",
      "Processing Record 11 of Set 5 | Kinel'\n",
      "Processing Record 12 of Set 5 | Yangi Marg`ilon\n",
      "Processing Record 13 of Set 5 | Gafanha da Encarnação\n",
      "City not found. Skipping...\n",
      "City not found. Skipping...\n",
      "Processing Record 14 of Set 5 | Klaksvík\n",
      "Processing Record 15 of Set 5 | eMkhomazi\n",
      "Processing Record 16 of Set 5 | Hambantota\n",
      "Processing Record 17 of Set 5 | Dingle\n",
      "Processing Record 18 of Set 5 | Kenora\n",
      "Processing Record 19 of Set 5 | Nosy Varika\n",
      "Processing Record 20 of Set 5 | Guadix\n",
      "Processing Record 21 of Set 5 | Pangody\n",
      "Processing Record 22 of Set 5 | Ponta do Sol\n",
      "Processing Record 23 of Set 5 | Três Lagoas\n",
      "Processing Record 24 of Set 5 | Boone\n",
      "Processing Record 25 of Set 5 | Urengoy\n",
      "Processing Record 26 of Set 5 | Baijiantan\n",
      "Processing Record 27 of Set 5 | Pervomayskoye\n",
      "Processing Record 28 of Set 5 | Cootamundra\n",
      "Processing Record 29 of Set 5 | Khatanga\n",
      "Processing Record 30 of Set 5 | Port Blair\n",
      "Processing Record 31 of Set 5 | George Town\n",
      "Processing Record 32 of Set 5 | Qui Nhon\n",
      "Processing Record 33 of Set 5 | Kieta\n",
      "City not found. Skipping...\n",
      "Processing Record 34 of Set 5 | Katangli\n",
      "Processing Record 35 of Set 5 | Liuzhou\n",
      "Processing Record 36 of Set 5 | Mehrān\n",
      "Processing Record 37 of Set 5 | Orissaare\n",
      "Processing Record 38 of Set 5 | Alice Springs\n",
      "Processing Record 39 of Set 5 | Geraldton\n",
      "Processing Record 40 of Set 5 | Bowen\n",
      "Processing Record 41 of Set 5 | Buchanan\n",
      "Processing Record 42 of Set 5 | Sambava\n",
      "City not found. Skipping...\n",
      "Processing Record 43 of Set 5 | Shimoda\n",
      "Processing Record 44 of Set 5 | Flinders\n",
      "Processing Record 45 of Set 5 | Padang\n",
      "Processing Record 46 of Set 5 | Manguito\n",
      "Processing Record 47 of Set 5 | Svetlaya\n",
      "Processing Record 48 of Set 5 | Teahupoo\n",
      "Processing Record 49 of Set 5 | Viedma\n",
      "Processing Record 50 of Set 5 | Sur\n",
      "Processing Record 1 of Set 6 | Tarko-Sale\n",
      "Processing Record 2 of Set 6 | Kuril'sk\n",
      "Processing Record 3 of Set 6 | Yulara\n",
      "Processing Record 4 of Set 6 | Oudtshoorn\n",
      "Processing Record 5 of Set 6 | Gladstone\n",
      "Processing Record 6 of Set 6 | Bousso\n",
      "Processing Record 7 of Set 6 | Ukiah\n",
      "Processing Record 8 of Set 6 | Quatre Cocos\n",
      "Processing Record 9 of Set 6 | Knyaze-Volkonskoye\n",
      "Processing Record 10 of Set 6 | Faya\n",
      "Processing Record 11 of Set 6 | Iquitos\n",
      "Processing Record 12 of Set 6 | Bredasdorp\n",
      "Processing Record 13 of Set 6 | Guilin\n",
      "Processing Record 14 of Set 6 | Saldanha\n",
      "Processing Record 15 of Set 6 | Talnakh\n",
      "Processing Record 16 of Set 6 | Saint George\n",
      "City not found. Skipping...\n",
      "Processing Record 17 of Set 6 | Narsaq\n",
      "City not found. Skipping...\n",
      "Processing Record 18 of Set 6 | Atmakūr\n",
      "Processing Record 19 of Set 6 | Kudahuvadhoo\n",
      "Processing Record 20 of Set 6 | Las Palmas\n",
      "Processing Record 21 of Set 6 | San Quintín\n",
      "Processing Record 22 of Set 6 | Yuli\n",
      "City not found. Skipping...\n",
      "Processing Record 23 of Set 6 | Tomatlán\n",
      "Processing Record 24 of Set 6 | Kholtoson\n",
      "Processing Record 25 of Set 6 | Bay Roberts\n",
      "Processing Record 26 of Set 6 | Novikovo\n",
      "Processing Record 27 of Set 6 | Camacha\n",
      "Processing Record 28 of Set 6 | Sohag\n",
      "Processing Record 29 of Set 6 | Necochea\n",
      "Processing Record 30 of Set 6 | East London\n",
      "Processing Record 31 of Set 6 | Kamenka\n",
      "Processing Record 32 of Set 6 | Adré\n",
      "Processing Record 33 of Set 6 | Aljezur\n",
      "Processing Record 34 of Set 6 | La Libertad\n",
      "Processing Record 35 of Set 6 | Sitka\n",
      "Processing Record 36 of Set 6 | Acapulco de Juárez\n",
      "Processing Record 37 of Set 6 | Kerman\n",
      "Processing Record 38 of Set 6 | City of San Pedro\n",
      "Processing Record 39 of Set 6 | Orikum\n",
      "Processing Record 40 of Set 6 | Banda Aceh\n",
      "Processing Record 41 of Set 6 | Drumheller\n",
      "Processing Record 42 of Set 6 | Mahébourg\n",
      "Processing Record 43 of Set 6 | Makaha\n",
      "Processing Record 44 of Set 6 | Rawson\n",
      "Processing Record 45 of Set 6 | Port Pirie\n",
      "City not found. Skipping...\n",
      "Processing Record 46 of Set 6 | Valentín Gómez Farías\n",
      "City not found. Skipping...\n",
      "Processing Record 47 of Set 6 | Sumbe\n",
      "Processing Record 48 of Set 6 | Saint Anthony\n",
      "Processing Record 49 of Set 6 | Pangnirtung\n",
      "Processing Record 50 of Set 6 | Ketchikan\n",
      "Processing Record 1 of Set 7 | Alyangula\n",
      "Processing Record 2 of Set 7 | Birao\n",
      "Processing Record 3 of Set 7 | Kalmunai\n",
      "Processing Record 4 of Set 7 | Nuuk\n",
      "Processing Record 5 of Set 7 | Belmonte\n",
      "Processing Record 6 of Set 7 | Aripuanã\n",
      "City not found. Skipping...\n",
      "Processing Record 7 of Set 7 | Chaozhou\n",
      "City not found. Skipping...\n",
      "Processing Record 8 of Set 7 | Shingū\n",
      "Processing Record 9 of Set 7 | Puerto Madryn\n",
      "Processing Record 10 of Set 7 | Dawei\n",
      "Processing Record 11 of Set 7 | Itacoatiara\n",
      "Processing Record 12 of Set 7 | Carnarvon\n",
      "Processing Record 13 of Set 7 | Kasempa\n",
      "Processing Record 14 of Set 7 | Kenai\n",
      "City not found. Skipping...\n",
      "Processing Record 15 of Set 7 | Puerto Escondido\n",
      "Processing Record 16 of Set 7 | Talaya\n",
      "Processing Record 17 of Set 7 | Havre-St-Pierre\n",
      "Processing Record 18 of Set 7 | San Patricio\n",
      "Processing Record 19 of Set 7 | Port Hawkesbury\n",
      "Processing Record 20 of Set 7 | Barra do Garças\n",
      "Processing Record 21 of Set 7 | Kuloy\n",
      "Processing Record 22 of Set 7 | Mezen'\n",
      "Processing Record 23 of Set 7 | Lorengau\n",
      "Processing Record 24 of Set 7 | Marsaxlokk\n",
      "Processing Record 25 of Set 7 | Nabire\n",
      "Processing Record 26 of Set 7 | Krasnoborsk\n",
      "Processing Record 27 of Set 7 | Capão da Canoa\n",
      "Processing Record 28 of Set 7 | Timrå\n",
      "Processing Record 29 of Set 7 | Vila Velha\n",
      "Processing Record 30 of Set 7 | Tynda\n",
      "Processing Record 31 of Set 7 | Taoudenni\n",
      "Processing Record 32 of Set 7 | Krutinka\n",
      "Processing Record 33 of Set 7 | Matara\n",
      "Processing Record 34 of Set 7 | Gawler\n",
      "Processing Record 35 of Set 7 | Romitan\n",
      "Processing Record 36 of Set 7 | Olivet\n",
      "Processing Record 37 of Set 7 | Thinadhoo\n",
      "Processing Record 38 of Set 7 | Tazovsky\n",
      "Processing Record 39 of Set 7 | Yangambi\n",
      "Processing Record 40 of Set 7 | Trincomalee\n",
      "Processing Record 41 of Set 7 | Mezhdurechensk\n",
      "Processing Record 42 of Set 7 | Santa Rita\n",
      "Processing Record 43 of Set 7 | Pitimbu\n",
      "Processing Record 44 of Set 7 | Zheleznodorozhnyy\n",
      "Processing Record 45 of Set 7 | Vao\n",
      "City not found. Skipping...\n",
      "Processing Record 46 of Set 7 | Great Yarmouth\n",
      "Processing Record 47 of Set 7 | Byron Bay\n",
      "Processing Record 48 of Set 7 | Coyhaique\n",
      "Processing Record 49 of Set 7 | Nakamura\n",
      "Processing Record 50 of Set 7 | Robertson\n",
      "Processing Record 1 of Set 8 | Urubamba\n",
      "Processing Record 2 of Set 8 | Bandi̇̄pur\n",
      "Processing Record 3 of Set 8 | Chegdomyn\n",
      "Processing Record 4 of Set 8 | Bemidji\n",
      "Processing Record 5 of Set 8 | Beeskow\n",
      "Processing Record 6 of Set 8 | Sibolga\n",
      "Processing Record 7 of Set 8 | Severo-Kuril'sk\n",
      "Processing Record 8 of Set 8 | Husavik\n",
      "Processing Record 9 of Set 8 | North Myrtle Beach\n",
      "Processing Record 10 of Set 8 | Ucluelet\n",
      "Processing Record 11 of Set 8 | Tay Ninh\n",
      "Processing Record 12 of Set 8 | Kumul\n",
      "Processing Record 13 of Set 8 | Ilulissat\n",
      "City not found. Skipping...\n",
      "Processing Record 14 of Set 8 | Santa Elena\n",
      "City not found. Skipping...\n",
      "Processing Record 15 of Set 8 | Auki\n",
      "Processing Record 16 of Set 8 | Muros\n",
      "Processing Record 17 of Set 8 | Owando\n",
      "Processing Record 18 of Set 8 | Cham\n",
      "Processing Record 19 of Set 8 | Kismayo\n"
     ]
    },
    {
     "name": "stdout",
     "output_type": "stream",
     "text": [
      "Processing Record 20 of Set 8 | Sinnamary\n",
      "Processing Record 21 of Set 8 | Tsimmerbude\n",
      "Processing Record 22 of Set 8 | The Valley\n",
      "City not found. Skipping...\n",
      "Processing Record 23 of Set 8 | Meadow Lake\n",
      "Processing Record 24 of Set 8 | Ilebo\n",
      "Processing Record 25 of Set 8 | Lebu\n",
      "Processing Record 26 of Set 8 | Leningradskiy\n",
      "City not found. Skipping...\n",
      "Processing Record 27 of Set 8 | Mogadishu\n",
      "Processing Record 28 of Set 8 | Leh\n",
      "Processing Record 29 of Set 8 | Derzhavīnsk\n",
      "Processing Record 30 of Set 8 | Lagoa\n",
      "Processing Record 31 of Set 8 | Vredendal\n",
      "Processing Record 32 of Set 8 | Megion\n",
      "Processing Record 33 of Set 8 | Kendari\n",
      "City not found. Skipping...\n",
      "City not found. Skipping...\n",
      "Processing Record 34 of Set 8 | Ambilobe\n",
      "City not found. Skipping...\n",
      "Processing Record 35 of Set 8 | Turukhansk\n",
      "Processing Record 36 of Set 8 | Buri\n",
      "Processing Record 37 of Set 8 | Egvekinot\n",
      "Processing Record 38 of Set 8 | Dehui\n",
      "City not found. Skipping...\n",
      "Processing Record 39 of Set 8 | San Policarpo\n",
      "Processing Record 40 of Set 8 | Atambua\n",
      "Processing Record 41 of Set 8 | Kondinskoye\n",
      "Processing Record 42 of Set 8 | Semīrom\n",
      "Processing Record 43 of Set 8 | Zhangaözen\n",
      "Processing Record 44 of Set 8 | Makakilo City\n",
      "Processing Record 45 of Set 8 | Kirksville\n",
      "Processing Record 46 of Set 8 | Touros\n",
      "Processing Record 47 of Set 8 | Borba\n",
      "Processing Record 48 of Set 8 | Zharkent\n",
      "Processing Record 49 of Set 8 | Broome\n",
      "Processing Record 50 of Set 8 | Rome\n",
      "Processing Record 1 of Set 9 | State College\n",
      "Processing Record 2 of Set 9 | Teguise\n",
      "Processing Record 3 of Set 9 | Jérémie\n",
      "Processing Record 4 of Set 9 | São Filipe\n",
      "Processing Record 5 of Set 9 | Yar-Sale\n",
      "Processing Record 6 of Set 9 | Dingzhou\n",
      "Processing Record 7 of Set 9 | Smithers\n",
      "Processing Record 8 of Set 9 | Tuatapere\n",
      "City not found. Skipping...\n",
      "Processing Record 9 of Set 9 | Etchoropo\n",
      "Processing Record 10 of Set 9 | Llangefni\n",
      "Processing Record 11 of Set 9 | Ancud\n",
      "Processing Record 12 of Set 9 | Lapeer\n",
      "Processing Record 13 of Set 9 | Dutlwe\n",
      "Processing Record 14 of Set 9 | Natal\n",
      "Processing Record 15 of Set 9 | Manacapuru\n",
      "Processing Record 16 of Set 9 | Sribne\n",
      "City not found. Skipping...\n",
      "Processing Record 17 of Set 9 | Hawkesbury\n",
      "Processing Record 18 of Set 9 | Katete\n",
      "Processing Record 19 of Set 9 | Pacific Grove\n",
      "Processing Record 20 of Set 9 | Chambéry\n",
      "Processing Record 21 of Set 9 | Dakar\n",
      "Processing Record 22 of Set 9 | Lancaster\n",
      "Processing Record 23 of Set 9 | Kununurra\n",
      "Processing Record 24 of Set 9 | Bandarbeyla\n",
      "City not found. Skipping...\n",
      "Processing Record 25 of Set 9 | Srednekolymsk\n",
      "Processing Record 26 of Set 9 | Te Anau\n",
      "Processing Record 27 of Set 9 | San Ramon\n",
      "Processing Record 28 of Set 9 | Fengzhen\n",
      "Processing Record 29 of Set 9 | Nueve de Julio\n",
      "Processing Record 30 of Set 9 | Mariehamn\n",
      "Processing Record 31 of Set 9 | Port Hardy\n",
      "Processing Record 32 of Set 9 | Mount Gambier\n",
      "Processing Record 33 of Set 9 | Morgan City\n",
      "Processing Record 34 of Set 9 | Punta Umbría\n",
      "Processing Record 35 of Set 9 | Prigorodka\n",
      "City not found. Skipping...\n",
      "Processing Record 36 of Set 9 | Benguela\n",
      "Processing Record 37 of Set 9 | Camocim\n",
      "Processing Record 38 of Set 9 | Ndjolé\n",
      "Processing Record 39 of Set 9 | Vilyuysk\n",
      "Processing Record 40 of Set 9 | Charlottesville\n",
      "Processing Record 41 of Set 9 | Moindou\n",
      "Processing Record 42 of Set 9 | Capreol\n",
      "Processing Record 43 of Set 9 | Shache\n",
      "Processing Record 44 of Set 9 | Boo\n",
      "Processing Record 45 of Set 9 | Oituz\n",
      "Processing Record 46 of Set 9 | Ust'-Kulom\n",
      "Processing Record 47 of Set 9 | Emba\n",
      "Processing Record 48 of Set 9 | Benátky nad Jizerou\n",
      "Processing Record 49 of Set 9 | Santa Fe\n",
      "Processing Record 50 of Set 9 | Tautira\n",
      "Processing Record 1 of Set 10 | Salalah\n",
      "Processing Record 2 of Set 10 | Mishelevka\n",
      "Processing Record 3 of Set 10 | Xining\n",
      "Processing Record 4 of Set 10 | Ezhou\n",
      "Processing Record 5 of Set 10 | Alta Floresta\n",
      "Processing Record 6 of Set 10 | West Bay\n",
      "Processing Record 7 of Set 10 | Carupano\n",
      "Processing Record 8 of Set 10 | Smidovich\n",
      "Processing Record 9 of Set 10 | Hay River\n",
      "Processing Record 10 of Set 10 | Haileybury\n",
      "Processing Record 11 of Set 10 | Shimokizukuri\n",
      "City not found. Skipping...\n",
      "Processing Record 12 of Set 10 | Saint-François\n",
      "Processing Record 13 of Set 10 | Ust'-Omchug\n",
      "Processing Record 14 of Set 10 | Cherskiy\n",
      "Processing Record 15 of Set 10 | Felipe Carrillo Puerto\n",
      "Processing Record 16 of Set 10 | Palmares do Sul\n",
      "Processing Record 17 of Set 10 | Huambo\n",
      "Processing Record 18 of Set 10 | Haines Junction\n",
      "City not found. Skipping...\n",
      "Processing Record 19 of Set 10 | Mindelo\n",
      "Processing Record 20 of Set 10 | Batagay\n",
      "Processing Record 21 of Set 10 | Saint Paul\n",
      "Processing Record 22 of Set 10 | Kasangulu\n",
      "Processing Record 23 of Set 10 | Oktyabr'skiy\n",
      "Processing Record 24 of Set 10 | Gannan\n",
      "Processing Record 25 of Set 10 | Kolyvan'\n",
      "Processing Record 26 of Set 10 | Deputatsky\n",
      "Processing Record 27 of Set 10 | Guider\n",
      "Processing Record 28 of Set 10 | Cap Malheureux\n",
      "Processing Record 29 of Set 10 | George\n",
      "Processing Record 30 of Set 10 | Le Port\n",
      "Processing Record 31 of Set 10 | Camacupa\n",
      "Processing Record 32 of Set 10 | Northam\n",
      "Processing Record 33 of Set 10 | Loa Janan\n",
      "Processing Record 34 of Set 10 | Portland\n",
      "Processing Record 35 of Set 10 | Bundaberg\n",
      "Processing Record 36 of Set 10 | Sioux Lookout\n",
      "Processing Record 37 of Set 10 | Betong\n",
      "Processing Record 38 of Set 10 | St. Marys\n",
      "Processing Record 39 of Set 10 | Dāmghān\n",
      "Processing Record 40 of Set 10 | Mamaku\n",
      "Processing Record 41 of Set 10 | Batticaloa\n",
      "Processing Record 42 of Set 10 | Jinchang\n",
      "Processing Record 43 of Set 10 | Soyo\n",
      "Processing Record 44 of Set 10 | Praia\n",
      "City not found. Skipping...\n",
      "Processing Record 45 of Set 10 | Rock Sound\n",
      "Processing Record 46 of Set 10 | Būkān\n",
      "Processing Record 47 of Set 10 | Tingi\n",
      "Processing Record 48 of Set 10 | Calvinia\n",
      "Processing Record 49 of Set 10 | Mount Darwin\n",
      "Processing Record 50 of Set 10 | Ipixuna\n",
      "Processing Record 1 of Set 11 | Neiafu\n",
      "Processing Record 2 of Set 11 | Grand Baie\n",
      "Processing Record 3 of Set 11 | Khasan\n",
      "City not found. Skipping...\n",
      "Processing Record 4 of Set 11 | Paita\n",
      "Processing Record 5 of Set 11 | Lensk\n",
      "Processing Record 6 of Set 11 | Kimberley\n",
      "Processing Record 7 of Set 11 | Vardø\n",
      "Processing Record 8 of Set 11 | Andrews\n",
      "Processing Record 9 of Set 11 | Dalbandin\n",
      "Processing Record 10 of Set 11 | Vallenar\n",
      "City not found. Skipping...\n",
      "Processing Record 11 of Set 11 | Lamu\n",
      "Processing Record 12 of Set 11 | Luebo\n",
      "Processing Record 13 of Set 11 | Biharamulo\n",
      "Processing Record 14 of Set 11 | Sabirabad\n",
      "Processing Record 15 of Set 11 | Chkalovskoye\n",
      "Processing Record 16 of Set 11 | Gatesville\n",
      "City not found. Skipping...\n",
      "Processing Record 17 of Set 11 | Bosaso\n",
      "Processing Record 18 of Set 11 | Asarganj\n",
      "Processing Record 19 of Set 11 | São Félix do Xingu\n",
      "Processing Record 20 of Set 11 | College\n",
      "Processing Record 21 of Set 11 | Brookhaven\n",
      "Processing Record 22 of Set 11 | Oberá\n",
      "Processing Record 23 of Set 11 | Carballo\n",
      "Processing Record 24 of Set 11 | Yenagoa\n",
      "Processing Record 25 of Set 11 | Khandyga\n",
      "Processing Record 26 of Set 11 | Balkhash\n",
      "Processing Record 27 of Set 11 | Udachny\n",
      "Processing Record 28 of Set 11 | Bilma\n",
      "Processing Record 29 of Set 11 | Barra Patuca\n",
      "Processing Record 30 of Set 11 | Aykhal\n",
      "Processing Record 31 of Set 11 | Gribanovskiy\n",
      "City not found. Skipping...\n",
      "Processing Record 32 of Set 11 | Taltal\n",
      "Processing Record 33 of Set 11 | Namatanai\n",
      "Processing Record 34 of Set 11 | Arcata\n",
      "Processing Record 35 of Set 11 | Coruripe\n",
      "City not found. Skipping...\n",
      "City not found. Skipping...\n",
      "Processing Record 36 of Set 11 | Kwang Binh\n",
      "Processing Record 37 of Set 11 | Port Hedland\n",
      "Processing Record 38 of Set 11 | Hokitika\n",
      "Processing Record 39 of Set 11 | Nainpur\n",
      "Processing Record 40 of Set 11 | Champerico\n",
      "Processing Record 41 of Set 11 | Camaná\n",
      "Processing Record 42 of Set 11 | Nong Chik\n",
      "Processing Record 43 of Set 11 | Zhangye\n",
      "Processing Record 44 of Set 11 | Labuhan\n",
      "Processing Record 45 of Set 11 | Ballina\n",
      "Processing Record 46 of Set 11 | Henties Bay\n",
      "Processing Record 47 of Set 11 | High Level\n",
      "Processing Record 48 of Set 11 | Sangar\n",
      "Processing Record 49 of Set 11 | Kloulklubed\n"
     ]
    }
   ],
   "source": [
    "# set up dataframe to store data\n",
    "WeatherPy_df =pd.DataFrame(columns = [\"City\",\"Lat\",\"Lng\",\"Max Temp\",\n",
    "                                      \"Humidity\",\"Cloudiness\", \n",
    "                                     \"Wind Speed\",\"Country\",\"Date\"])\n",
    "\n",
    "# Perform API calls and send retrieved data to the WeatherPy data frame\n",
    "base_url = \"https://api.openweathermap.org/data/2.5/weather?\"\n",
    "print(\"Beginning Data Retrieval\")\n",
    "print(\"-------------------------\")\n",
    "count=1\n",
    "set=1\n",
    "index=0\n",
    "import time\n",
    "t0 =time.time()\n",
    "for city in cities:\n",
    "    query_url=base_url+\"appid=\"+weather_api_key+\"&q=\"+city+\"&units=imperial\"\n",
    "    data=requests.get(query_url).json()\n",
    "    try:\n",
    "        print(f'Processing Record {count} of Set {set} | {data[\"name\"]}')\n",
    "        WeatherPy_df.loc[index, \"City\"]=data[\"name\"]\n",
    "        WeatherPy_df.loc[index, \"Lat\"]=data[\"coord\"][\"lat\"]\n",
    "        WeatherPy_df.loc[index, \"Lng\"]=data[\"coord\"][\"lon\"]\n",
    "        WeatherPy_df.loc[index, \"Max Temp\"]=data[\"main\"][\"temp_max\"]\n",
    "        WeatherPy_df.loc[index, \"Humidity\"]=data[\"main\"][\"humidity\"]\n",
    "        WeatherPy_df.loc[index, \"Cloudiness\"]=data[\"clouds\"][\"all\"]\n",
    "        WeatherPy_df.loc[index, \"Wind Speed\"]=data[\"wind\"][\"speed\"]\n",
    "        WeatherPy_df.loc[index, \"Country\"]=data[\"sys\"][\"country\"]\n",
    "        WeatherPy_df.loc[index, \"Date\"]=data[\"dt\"]\n",
    "        index=index+1\n",
    "        count=count+1\n",
    "    except:\n",
    "        print(\"City not found. Skipping...\")\n",
    "    #count=count+1\n",
    "    if count==51:\n",
    "        count=1\n",
    "        set=set+1\n",
    "        t1=time.time()\n",
    "        time.sleep(60-(t1-t0))\n",
    "        t0=time.time()\n",
    "        "
   ]
  },
  {
   "cell_type": "markdown",
   "metadata": {},
   "source": [
    "### Convert Raw Data to DataFrame\n",
    "* Export the city data into a .csv.\n",
    "* Display the DataFrame"
   ]
  },
  {
   "cell_type": "code",
   "execution_count": 11,
   "metadata": {
    "scrolled": true
   },
   "outputs": [
    {
     "name": "stdout",
     "output_type": "stream",
     "text": [
      "549\n"
     ]
    },
    {
     "data": {
      "text/html": [
       "<div>\n",
       "<style scoped>\n",
       "    .dataframe tbody tr th:only-of-type {\n",
       "        vertical-align: middle;\n",
       "    }\n",
       "\n",
       "    .dataframe tbody tr th {\n",
       "        vertical-align: top;\n",
       "    }\n",
       "\n",
       "    .dataframe thead th {\n",
       "        text-align: right;\n",
       "    }\n",
       "</style>\n",
       "<table border=\"1\" class=\"dataframe\">\n",
       "  <thead>\n",
       "    <tr style=\"text-align: right;\">\n",
       "      <th></th>\n",
       "      <th>City</th>\n",
       "      <th>Lat</th>\n",
       "      <th>Lng</th>\n",
       "      <th>Max Temp</th>\n",
       "      <th>Humidity</th>\n",
       "      <th>Cloudiness</th>\n",
       "      <th>Wind Speed</th>\n",
       "      <th>Country</th>\n",
       "      <th>Date</th>\n",
       "    </tr>\n",
       "  </thead>\n",
       "  <tbody>\n",
       "    <tr>\n",
       "      <th>0</th>\n",
       "      <td>Hanstholm</td>\n",
       "      <td>57.1167</td>\n",
       "      <td>8.6167</td>\n",
       "      <td>36</td>\n",
       "      <td>3</td>\n",
       "      <td>0</td>\n",
       "      <td>8.21</td>\n",
       "      <td>DK</td>\n",
       "      <td>1615934081</td>\n",
       "    </tr>\n",
       "    <tr>\n",
       "      <th>1</th>\n",
       "      <td>Bambous Virieux</td>\n",
       "      <td>-20.3428</td>\n",
       "      <td>57.7575</td>\n",
       "      <td>78.8</td>\n",
       "      <td>78</td>\n",
       "      <td>75</td>\n",
       "      <td>8.05</td>\n",
       "      <td>MU</td>\n",
       "      <td>1615934082</td>\n",
       "    </tr>\n",
       "    <tr>\n",
       "      <th>2</th>\n",
       "      <td>Nueva Guinea</td>\n",
       "      <td>11.6876</td>\n",
       "      <td>-84.4562</td>\n",
       "      <td>78.28</td>\n",
       "      <td>65</td>\n",
       "      <td>84</td>\n",
       "      <td>9.75</td>\n",
       "      <td>NI</td>\n",
       "      <td>1615934082</td>\n",
       "    </tr>\n",
       "    <tr>\n",
       "      <th>3</th>\n",
       "      <td>Boa Vista</td>\n",
       "      <td>2.8197</td>\n",
       "      <td>-60.6733</td>\n",
       "      <td>82.4</td>\n",
       "      <td>69</td>\n",
       "      <td>40</td>\n",
       "      <td>9.22</td>\n",
       "      <td>BR</td>\n",
       "      <td>1615934244</td>\n",
       "    </tr>\n",
       "    <tr>\n",
       "      <th>4</th>\n",
       "      <td>Virginia Beach</td>\n",
       "      <td>36.8529</td>\n",
       "      <td>-75.978</td>\n",
       "      <td>46.4</td>\n",
       "      <td>87</td>\n",
       "      <td>90</td>\n",
       "      <td>8.05</td>\n",
       "      <td>US</td>\n",
       "      <td>1615934281</td>\n",
       "    </tr>\n",
       "  </tbody>\n",
       "</table>\n",
       "</div>"
      ],
      "text/plain": [
       "              City      Lat      Lng Max Temp Humidity Cloudiness Wind Speed  \\\n",
       "0        Hanstholm  57.1167   8.6167       36        3          0       8.21   \n",
       "1  Bambous Virieux -20.3428  57.7575     78.8       78         75       8.05   \n",
       "2     Nueva Guinea  11.6876 -84.4562    78.28       65         84       9.75   \n",
       "3        Boa Vista   2.8197 -60.6733     82.4       69         40       9.22   \n",
       "4   Virginia Beach  36.8529  -75.978     46.4       87         90       8.05   \n",
       "\n",
       "  Country        Date  \n",
       "0      DK  1615934081  \n",
       "1      MU  1615934082  \n",
       "2      NI  1615934082  \n",
       "3      BR  1615934244  \n",
       "4      US  1615934281  "
      ]
     },
     "execution_count": 11,
     "metadata": {},
     "output_type": "execute_result"
    }
   ],
   "source": [
    "WeatherPy_df.Lat.describe()\n",
    "WeatherPy_df.to_csv(\"output_data/cities.csv\",encoding='utf-8', index=False)\n",
    "print(len(WeatherPy_df))\n",
    "WeatherPy_df.head()\n"
   ]
  },
  {
   "cell_type": "code",
   "execution_count": 65,
   "metadata": {},
   "outputs": [
    {
     "data": {
      "text/html": [
       "<div>\n",
       "<style scoped>\n",
       "    .dataframe tbody tr th:only-of-type {\n",
       "        vertical-align: middle;\n",
       "    }\n",
       "\n",
       "    .dataframe tbody tr th {\n",
       "        vertical-align: top;\n",
       "    }\n",
       "\n",
       "    .dataframe thead th {\n",
       "        text-align: right;\n",
       "    }\n",
       "</style>\n",
       "<table border=\"1\" class=\"dataframe\">\n",
       "  <thead>\n",
       "    <tr style=\"text-align: right;\">\n",
       "      <th></th>\n",
       "      <th>Lat</th>\n",
       "      <th>Lng</th>\n",
       "      <th>Max Temp</th>\n",
       "      <th>Humidity</th>\n",
       "      <th>Cloudiness</th>\n",
       "      <th>Wind Speed</th>\n",
       "      <th>Date</th>\n",
       "    </tr>\n",
       "  </thead>\n",
       "  <tbody>\n",
       "    <tr>\n",
       "      <th>count</th>\n",
       "      <td>549.000000</td>\n",
       "      <td>549.000000</td>\n",
       "      <td>549.000000</td>\n",
       "      <td>549.000000</td>\n",
       "      <td>549.000000</td>\n",
       "      <td>549.000000</td>\n",
       "      <td>5.490000e+02</td>\n",
       "    </tr>\n",
       "    <tr>\n",
       "      <th>mean</th>\n",
       "      <td>18.777399</td>\n",
       "      <td>15.458844</td>\n",
       "      <td>54.319381</td>\n",
       "      <td>72.677596</td>\n",
       "      <td>55.045537</td>\n",
       "      <td>7.944572</td>\n",
       "      <td>1.615935e+09</td>\n",
       "    </tr>\n",
       "    <tr>\n",
       "      <th>std</th>\n",
       "      <td>33.400822</td>\n",
       "      <td>91.651587</td>\n",
       "      <td>27.276662</td>\n",
       "      <td>20.108825</td>\n",
       "      <td>37.912593</td>\n",
       "      <td>5.643471</td>\n",
       "      <td>3.048758e+02</td>\n",
       "    </tr>\n",
       "    <tr>\n",
       "      <th>min</th>\n",
       "      <td>-54.800000</td>\n",
       "      <td>-179.166700</td>\n",
       "      <td>-43.400000</td>\n",
       "      <td>3.000000</td>\n",
       "      <td>0.000000</td>\n",
       "      <td>0.600000</td>\n",
       "      <td>1.615934e+09</td>\n",
       "    </tr>\n",
       "    <tr>\n",
       "      <th>25%</th>\n",
       "      <td>-8.836800</td>\n",
       "      <td>-65.102300</td>\n",
       "      <td>36.370000</td>\n",
       "      <td>65.000000</td>\n",
       "      <td>20.000000</td>\n",
       "      <td>3.740000</td>\n",
       "      <td>1.615934e+09</td>\n",
       "    </tr>\n",
       "    <tr>\n",
       "      <th>50%</th>\n",
       "      <td>22.433300</td>\n",
       "      <td>19.934800</td>\n",
       "      <td>62.600000</td>\n",
       "      <td>78.000000</td>\n",
       "      <td>68.000000</td>\n",
       "      <td>6.710000</td>\n",
       "      <td>1.615935e+09</td>\n",
       "    </tr>\n",
       "    <tr>\n",
       "      <th>75%</th>\n",
       "      <td>46.844000</td>\n",
       "      <td>95.322200</td>\n",
       "      <td>77.000000</td>\n",
       "      <td>88.000000</td>\n",
       "      <td>90.000000</td>\n",
       "      <td>10.740000</td>\n",
       "      <td>1.615935e+09</td>\n",
       "    </tr>\n",
       "    <tr>\n",
       "      <th>max</th>\n",
       "      <td>78.218600</td>\n",
       "      <td>178.416700</td>\n",
       "      <td>95.000000</td>\n",
       "      <td>100.000000</td>\n",
       "      <td>100.000000</td>\n",
       "      <td>32.820000</td>\n",
       "      <td>1.615935e+09</td>\n",
       "    </tr>\n",
       "  </tbody>\n",
       "</table>\n",
       "</div>"
      ],
      "text/plain": [
       "              Lat         Lng    Max Temp    Humidity  Cloudiness  Wind Speed  \\\n",
       "count  549.000000  549.000000  549.000000  549.000000  549.000000  549.000000   \n",
       "mean    18.777399   15.458844   54.319381   72.677596   55.045537    7.944572   \n",
       "std     33.400822   91.651587   27.276662   20.108825   37.912593    5.643471   \n",
       "min    -54.800000 -179.166700  -43.400000    3.000000    0.000000    0.600000   \n",
       "25%     -8.836800  -65.102300   36.370000   65.000000   20.000000    3.740000   \n",
       "50%     22.433300   19.934800   62.600000   78.000000   68.000000    6.710000   \n",
       "75%     46.844000   95.322200   77.000000   88.000000   90.000000   10.740000   \n",
       "max     78.218600  178.416700   95.000000  100.000000  100.000000   32.820000   \n",
       "\n",
       "               Date  \n",
       "count  5.490000e+02  \n",
       "mean   1.615935e+09  \n",
       "std    3.048758e+02  \n",
       "min    1.615934e+09  \n",
       "25%    1.615934e+09  \n",
       "50%    1.615935e+09  \n",
       "75%    1.615935e+09  \n",
       "max    1.615935e+09  "
      ]
     },
     "execution_count": 65,
     "metadata": {},
     "output_type": "execute_result"
    }
   ],
   "source": [
    "WeatherPy_float_df=WeatherPy_df[[\"Lat\",\"Lng\",\"Max Temp\",\"Humidity\",\"Cloudiness\",\"Wind Speed\",\"Date\"]].astype(float)\n",
    "WeatherPy_float_df.describe()"
   ]
  },
  {
   "cell_type": "markdown",
   "metadata": {},
   "source": [
    "## Inspect the data and remove the cities where the humidity > 100%.\n",
    "----\n",
    "Skip this step if there are no cities that have humidity > 100%. "
   ]
  },
  {
   "cell_type": "code",
   "execution_count": 66,
   "metadata": {},
   "outputs": [
    {
     "name": "stdout",
     "output_type": "stream",
     "text": [
      "100\n"
     ]
    },
    {
     "data": {
      "text/html": [
       "<div>\n",
       "<style scoped>\n",
       "    .dataframe tbody tr th:only-of-type {\n",
       "        vertical-align: middle;\n",
       "    }\n",
       "\n",
       "    .dataframe tbody tr th {\n",
       "        vertical-align: top;\n",
       "    }\n",
       "\n",
       "    .dataframe thead th {\n",
       "        text-align: right;\n",
       "    }\n",
       "</style>\n",
       "<table border=\"1\" class=\"dataframe\">\n",
       "  <thead>\n",
       "    <tr style=\"text-align: right;\">\n",
       "      <th></th>\n",
       "      <th>City</th>\n",
       "      <th>Lat</th>\n",
       "      <th>Lng</th>\n",
       "      <th>Max Temp</th>\n",
       "      <th>Humidity</th>\n",
       "      <th>Cloudiness</th>\n",
       "      <th>Wind Speed</th>\n",
       "      <th>Country</th>\n",
       "      <th>Date</th>\n",
       "    </tr>\n",
       "  </thead>\n",
       "  <tbody>\n",
       "  </tbody>\n",
       "</table>\n",
       "</div>"
      ],
      "text/plain": [
       "Empty DataFrame\n",
       "Columns: [City, Lat, Lng, Max Temp, Humidity, Cloudiness, Wind Speed, Country, Date]\n",
       "Index: []"
      ]
     },
     "execution_count": 66,
     "metadata": {},
     "output_type": "execute_result"
    }
   ],
   "source": [
    "print(WeatherPy_df[\"Humidity\"].max())\n",
    "humidity_outliers=WeatherPy_df.loc[WeatherPy_df[\"Humidity\"]>100]\n",
    "humidity_outliers"
   ]
  },
  {
   "cell_type": "code",
   "execution_count": 8,
   "metadata": {},
   "outputs": [
    {
     "data": {
      "text/plain": [
       "Int64Index([], dtype='int64')"
      ]
     },
     "execution_count": 8,
     "metadata": {},
     "output_type": "execute_result"
    }
   ],
   "source": [
    "#  Get the indices of cities that have humidity over 100%.\n",
    "humidity_outliers.index"
   ]
  },
  {
   "cell_type": "code",
   "execution_count": 12,
   "metadata": {},
   "outputs": [
    {
     "name": "stdout",
     "output_type": "stream",
     "text": [
      "549\n"
     ]
    },
    {
     "data": {
      "text/html": [
       "<div>\n",
       "<style scoped>\n",
       "    .dataframe tbody tr th:only-of-type {\n",
       "        vertical-align: middle;\n",
       "    }\n",
       "\n",
       "    .dataframe tbody tr th {\n",
       "        vertical-align: top;\n",
       "    }\n",
       "\n",
       "    .dataframe thead th {\n",
       "        text-align: right;\n",
       "    }\n",
       "</style>\n",
       "<table border=\"1\" class=\"dataframe\">\n",
       "  <thead>\n",
       "    <tr style=\"text-align: right;\">\n",
       "      <th></th>\n",
       "      <th>City</th>\n",
       "      <th>Lat</th>\n",
       "      <th>Lng</th>\n",
       "      <th>Max Temp</th>\n",
       "      <th>Humidity</th>\n",
       "      <th>Cloudiness</th>\n",
       "      <th>Wind Speed</th>\n",
       "      <th>Country</th>\n",
       "      <th>Date</th>\n",
       "    </tr>\n",
       "  </thead>\n",
       "  <tbody>\n",
       "    <tr>\n",
       "      <th>0</th>\n",
       "      <td>Hanstholm</td>\n",
       "      <td>57.1167</td>\n",
       "      <td>8.6167</td>\n",
       "      <td>36</td>\n",
       "      <td>3</td>\n",
       "      <td>0</td>\n",
       "      <td>8.21</td>\n",
       "      <td>DK</td>\n",
       "      <td>1615934081</td>\n",
       "    </tr>\n",
       "    <tr>\n",
       "      <th>1</th>\n",
       "      <td>Bambous Virieux</td>\n",
       "      <td>-20.3428</td>\n",
       "      <td>57.7575</td>\n",
       "      <td>78.8</td>\n",
       "      <td>78</td>\n",
       "      <td>75</td>\n",
       "      <td>8.05</td>\n",
       "      <td>MU</td>\n",
       "      <td>1615934082</td>\n",
       "    </tr>\n",
       "    <tr>\n",
       "      <th>2</th>\n",
       "      <td>Nueva Guinea</td>\n",
       "      <td>11.6876</td>\n",
       "      <td>-84.4562</td>\n",
       "      <td>78.28</td>\n",
       "      <td>65</td>\n",
       "      <td>84</td>\n",
       "      <td>9.75</td>\n",
       "      <td>NI</td>\n",
       "      <td>1615934082</td>\n",
       "    </tr>\n",
       "    <tr>\n",
       "      <th>3</th>\n",
       "      <td>Boa Vista</td>\n",
       "      <td>2.8197</td>\n",
       "      <td>-60.6733</td>\n",
       "      <td>82.4</td>\n",
       "      <td>69</td>\n",
       "      <td>40</td>\n",
       "      <td>9.22</td>\n",
       "      <td>BR</td>\n",
       "      <td>1615934244</td>\n",
       "    </tr>\n",
       "    <tr>\n",
       "      <th>4</th>\n",
       "      <td>Virginia Beach</td>\n",
       "      <td>36.8529</td>\n",
       "      <td>-75.978</td>\n",
       "      <td>46.4</td>\n",
       "      <td>87</td>\n",
       "      <td>90</td>\n",
       "      <td>8.05</td>\n",
       "      <td>US</td>\n",
       "      <td>1615934281</td>\n",
       "    </tr>\n",
       "  </tbody>\n",
       "</table>\n",
       "</div>"
      ],
      "text/plain": [
       "              City      Lat      Lng Max Temp Humidity Cloudiness Wind Speed  \\\n",
       "0        Hanstholm  57.1167   8.6167       36        3          0       8.21   \n",
       "1  Bambous Virieux -20.3428  57.7575     78.8       78         75       8.05   \n",
       "2     Nueva Guinea  11.6876 -84.4562    78.28       65         84       9.75   \n",
       "3        Boa Vista   2.8197 -60.6733     82.4       69         40       9.22   \n",
       "4   Virginia Beach  36.8529  -75.978     46.4       87         90       8.05   \n",
       "\n",
       "  Country        Date  \n",
       "0      DK  1615934081  \n",
       "1      MU  1615934082  \n",
       "2      NI  1615934082  \n",
       "3      BR  1615934244  \n",
       "4      US  1615934281  "
      ]
     },
     "execution_count": 12,
     "metadata": {},
     "output_type": "execute_result"
    }
   ],
   "source": [
    "# Make a new DataFrame equal to the city data to drop all humidity outliers by index.\n",
    "# Passing \"inplace=False\" will make a copy of the city_data DataFrame, which we call \"clean_city_data\".\n",
    "clean_city_data=WeatherPy_df.drop(index=humidity_outliers.index,inplace=False)\n",
    "print(len(clean_city_data))\n",
    "clean_city_data.head()\n"
   ]
  },
  {
   "cell_type": "markdown",
   "metadata": {},
   "source": [
    "## Plotting the Data\n",
    "* Use proper labeling of the plots using plot titles (including date of analysis) and axes labels.\n",
    "* Save the plotted figures as .pngs."
   ]
  },
  {
   "cell_type": "markdown",
   "metadata": {},
   "source": [
    "## Latitude vs. Temperature Plot"
   ]
  },
  {
   "cell_type": "code",
   "execution_count": 24,
   "metadata": {},
   "outputs": [
    {
     "data": {
      "image/png": "[encoded data removed]",
      "text/plain": [
       "<Figure size 432x288 with 1 Axes>"
      ]
     },
     "metadata": {
      "needs_background": "light"
     },
     "output_type": "display_data"
    }
   ],
   "source": [
    "#plt.figure(figsize=(10,6))\n",
    "# sns.set()\n",
    "x_values=WeatherPy_df[\"Lat\"]\n",
    "y_values=WeatherPy_df[\"Max Temp\"]\n",
    "plt.scatter(x_values,y_values,color=\"blue\",alpha=0.5)\n",
    "plt.xlabel(\"Latitude\")\n",
    "plt.ylabel(\"Max Temperature(F)\")\n",
    "plt.title(f'City Latitude vs. Max Temperature ({datetime.now().date()})')\n",
    "plt.grid()\n",
    "plt.savefig(\"output_data/fig1.png\")\n",
    "plt.show()"
   ]
  },
  {
   "cell_type": "markdown",
   "metadata": {},
   "source": [
    "With the scatter plot above, we try to figure out if there is any relationship between City Latitude and its Max Temperature. We can tell from the scatter plot that cities closer to equator has higher max temperature while cities further from equator has lower max temperature.But north hemisphere has more variance in max temperature changes and the reason could be it is mostly ocean in the south hemisphere and the temperature does not vary that much as north hemisphere.  "
   ]
  },
  {
   "cell_type": "markdown",
   "metadata": {},
   "source": [
    "## Latitude vs. Humidity Plot"
   ]
  },
  {
   "cell_type": "code",
   "execution_count": 25,
   "metadata": {},
   "outputs": [
    {
     "data": {
      "image/png": "[encoded data removed]",
      "text/plain": [
       "<Figure size 432x288 with 1 Axes>"
      ]
     },
     "metadata": {
      "needs_background": "light"
     },
     "output_type": "display_data"
    }
   ],
   "source": [
    "x_values=WeatherPy_df[\"Lat\"]\n",
    "y_values=WeatherPy_df[\"Humidity\"]\n",
    "plt.scatter(x_values,y_values)\n",
    "plt.xlabel(\"Latitude\")\n",
    "plt.ylabel(\"Humidity(%)\")\n",
    "plt.title(f'City Latitude vs. Humidity ({datetime.now().date()})')\n",
    "plt.grid()\n",
    "plt.savefig(\"output_data/fig2.png\")\n",
    "plt.show()"
   ]
  },
  {
   "cell_type": "markdown",
   "metadata": {},
   "source": [
    "With the scatter plot above, we try to figure out if there is any relationship between City Latitude and its Humidity. We can tell from the scatter plot that most cities between latitude(-20,20) has high humidity between 60% to 100% while humidity for cities further from equator vary a lot between 20% to 100%.Like the variance in temperature, north hemisphere has more variance in humidity too and the reason could be landscapes in north hemisphere plays an important role in shaping very different climate for cities even at the same latitude."
   ]
  },
  {
   "cell_type": "markdown",
   "metadata": {},
   "source": [
    "## Latitude vs. Cloudiness Plot"
   ]
  },
  {
   "cell_type": "code",
   "execution_count": 26,
   "metadata": {},
   "outputs": [
    {
     "data": {
      "image/png": "[encoded data removed]",
      "text/plain": [
       "<Figure size 432x288 with 1 Axes>"
      ]
     },
     "metadata": {
      "needs_background": "light"
     },
     "output_type": "display_data"
    }
   ],
   "source": [
    "x_values=WeatherPy_df[\"Lat\"]\n",
    "y_values=WeatherPy_df[\"Cloudiness\"]\n",
    "plt.scatter(x_values,y_values)\n",
    "plt.xlabel(\"Latitude\")\n",
    "plt.ylabel(\"Cloudiness(%)\")\n",
    "plt.title(f'City Latitude vs. Cloudiness ({datetime.now().date()})')\n",
    "plt.savefig(\"output_data/fig3.png\")\n",
    "plt.show()"
   ]
  },
  {
   "cell_type": "markdown",
   "metadata": {},
   "source": [
    "With the scatter plot above, we try to figure out if there is any relationship between City Latitude and its Cloudiness. We can tell from the scatter plot that humidity varies a lot from o % to 100% for all the cities from all the latitudes. Cloudiness does seem to change with the variance of latitudes. "
   ]
  },
  {
   "cell_type": "markdown",
   "metadata": {},
   "source": [
    "## Latitude vs. Wind Speed Plot"
   ]
  },
  {
   "cell_type": "code",
   "execution_count": 27,
   "metadata": {},
   "outputs": [
    {
     "data": {
      "image/png": "[encoded data removed]",
      "text/plain": [
       "<Figure size 432x288 with 1 Axes>"
      ]
     },
     "metadata": {
      "needs_background": "light"
     },
     "output_type": "display_data"
    }
   ],
   "source": [
    "x_values=WeatherPy_df[\"Lat\"]\n",
    "y_values=WeatherPy_df[\"Wind Speed\"]\n",
    "plt.scatter(x_values,y_values)\n",
    "plt.xlabel(\"Latitude\")\n",
    "plt.ylabel(\"Wind Speed(mph)\")\n",
    "plt.title(f'City Latitude vs. Wind Speed ({datetime.now().date()})')\n",
    "plt.savefig(\"output_data/fig4.png\")\n",
    "plt.show()"
   ]
  },
  {
   "cell_type": "markdown",
   "metadata": {},
   "source": [
    "With the scatter plot above, we try to figure out if there is any relationship between City Latitude and its Windspeed. We can tell from the scatter plot that windspeed for most cities closer to equator are low between 0 to 15mph and there is not much variance between cities. While windspeed varies for cities with higher latitude form both north hemisphere and south hemisphere even though the majority of cities has wind speed 0-15 mph. "
   ]
  },
  {
   "cell_type": "markdown",
   "metadata": {},
   "source": [
    "## Linear Regression"
   ]
  },
  {
   "cell_type": "markdown",
   "metadata": {},
   "source": [
    "####  Northern Hemisphere - Max Temp vs. Latitude Linear Regression"
   ]
  },
  {
   "cell_type": "code",
   "execution_count": 30,
   "metadata": {},
   "outputs": [],
   "source": [
    "Northern_df=WeatherPy_df.loc[WeatherPy_df[\"Lat\"]>=0]\n",
    "Southern_df=WeatherPy_df.loc[WeatherPy_df[\"Lat\"]<0]"
   ]
  },
  {
   "cell_type": "code",
   "execution_count": 37,
   "metadata": {},
   "outputs": [
    {
     "name": "stdout",
     "output_type": "stream",
     "text": [
      "The r_value is: -0.88\n"
     ]
    },
    {
     "data": {
      "image/png": "[encoded data removed]",
      "text/plain": [
       "<Figure size 432x288 with 1 Axes>"
      ]
     },
     "metadata": {
      "needs_background": "light"
     },
     "output_type": "display_data"
    }
   ],
   "source": [
    "x_values=Northern_df[\"Lat\"].astype(float)\n",
    "y_values=Northern_df[\"Max Temp\"].astype(float)\n",
    "r_value=st.pearsonr(x_values,y_values)[0]\n",
    "print(\"The r_value is: \"+str(round(r_value,2)))\n",
    "(slope, intercept, rvalue, pvalue, stderr) = linregress(x_values, y_values)\n",
    "regress_values = x_values * slope + intercept\n",
    "line_eq = \"y = \" + str(round(slope,2)) + \"x + \" + str(round(intercept,2))\n",
    "plt.scatter(x_values,y_values)\n",
    "plt.plot(x_values,regress_values,\"r-\")\n",
    "plt.annotate(line_eq,(40,80),fontsize=15,color=\"red\")\n",
    "plt.xlabel(\"Latitude\")\n",
    "plt.ylabel(\"Max Temp\")\n",
    "plt.title(f'Northern Hemisphere - Max Temp vs. Latitude Linear Regression ({datetime.now().date()})')\n",
    "plt.savefig(\"output_data/fig5.png\")\n",
    "plt.show()\n",
    "\n"
   ]
  },
  {
   "cell_type": "markdown",
   "metadata": {},
   "source": [
    "With the linear regression above, we try to model the relationship between City Latitude from northeren hemisphere and its Max Temperature. We can tell from the figure that the data points are close to the regression line, therefore there is strong relation between City Latitude from northeren hemisphere and its Max Temperature.The higher the latitude is, the lower the max temperature is.  "
   ]
  },
  {
   "cell_type": "markdown",
   "metadata": {},
   "source": [
    "####  Southern Hemisphere - Max Temp vs. Latitude Linear Regression"
   ]
  },
  {
   "cell_type": "code",
   "execution_count": 50,
   "metadata": {},
   "outputs": [
    {
     "name": "stdout",
     "output_type": "stream",
     "text": [
      "The r_value is: 0.64\n"
     ]
    },
    {
     "data": {
      "image/png": "[encoded data removed]",
      "text/plain": [
       "<Figure size 432x288 with 1 Axes>"
      ]
     },
     "metadata": {
      "needs_background": "light"
     },
     "output_type": "display_data"
    }
   ],
   "source": [
    "x_values=Southern_df[\"Lat\"].astype(float)\n",
    "y_values=Southern_df[\"Max Temp\"].astype(float)\n",
    "r_value=st.pearsonr(x_values,y_values)[0]\n",
    "print(\"The r_value is: \"+str(round(r_value,2)))\n",
    "(slope, intercept, rvalue, pvalue, stderr) = st.linregress(x_values, y_values)\n",
    "regress_values = x_values * slope + intercept\n",
    "line_eq = \"y = \" + str(round(slope,2)) + \"x + \" + str(round(intercept,2))\n",
    "plt.scatter(x_values,y_values)\n",
    "plt.plot(x_values,regress_values,\"r-\")\n",
    "plt.annotate(line_eq,(-40,80),fontsize=15,color=\"red\")\n",
    "plt.xlabel(\"Latitude\")\n",
    "plt.ylabel(\"Max Temp\")\n",
    "plt.title(f'Southern Hemisphere - Max Temp vs. Latitude Linear Regression ({datetime.now().date()})')\n",
    "plt.savefig(\"output_data/fig6.png\")\n",
    "plt.show()"
   ]
  },
  {
   "cell_type": "markdown",
   "metadata": {},
   "source": [
    "With the linear regression above, we try to model the relationship between City Latitude from southern hemisphere and its Max Temperature. We can tell from the r-value and the figure that there is moderate high relation between City Latitude from southern hemisphere and its Max Temperature.The lower the latitude is, the higher the max temperature is.  "
   ]
  },
  {
   "cell_type": "markdown",
   "metadata": {},
   "source": [
    "####  Northern Hemisphere - Humidity (%) vs. Latitude Linear Regression"
   ]
  },
  {
   "cell_type": "code",
   "execution_count": 42,
   "metadata": {},
   "outputs": [
    {
     "name": "stdout",
     "output_type": "stream",
     "text": [
      "The r_value is 0.18\n"
     ]
    },
    {
     "data": {
      "image/png": "[encoded data removed]",
      "text/plain": [
       "<Figure size 432x288 with 1 Axes>"
      ]
     },
     "metadata": {
      "needs_background": "light"
     },
     "output_type": "display_data"
    }
   ],
   "source": [
    "x_values=Northern_df[\"Lat\"].astype(float)\n",
    "y_values=Northern_df[\"Humidity\"].astype(float)\n",
    "r_value=st.pearsonr(x_values,y_values)[0]\n",
    "print(\"The r_value is \"+str(round(r_value,2)))\n",
    "(slope, intercept, rvalue, pvalue, stderr) = st.linregress(x_values, y_values)\n",
    "regress_values = x_values * slope + intercept\n",
    "line_eq = \"y = \" + str(round(slope,2)) + \"x + \" + str(round(intercept,2))\n",
    "plt.scatter(x_values,y_values)\n",
    "plt.plot(x_values,regress_values,\"r-\")\n",
    "plt.annotate(line_eq,(40,80),fontsize=15,color=\"red\")\n",
    "plt.xlabel(\"Latitude\")\n",
    "plt.ylabel(\"Max Temp\")\n",
    "plt.title(f'Northern Hemisphere - Humidity (%) vs. Latitude Linear Regression')\n",
    "plt.savefig(\"output_data/fig7.png\")\n",
    "plt.show()"
   ]
  },
  {
   "cell_type": "markdown",
   "metadata": {},
   "source": [
    "With the linear regression above, we try to model the relationship between City Latitude from northern hemisphere and its humidity. We can tell from the r-value and the figure that there is very week relation between City Latitude from northern hemisphere and its humidity as the data points are far from the regression line.As the latitude goes high,cities' humidity does not show any trend to go higher or lower. "
   ]
  },
  {
   "cell_type": "markdown",
   "metadata": {},
   "source": [
    "####  Southern Hemisphere - Humidity (%) vs. Latitude Linear Regression"
   ]
  },
  {
   "cell_type": "code",
   "execution_count": 49,
   "metadata": {},
   "outputs": [
    {
     "name": "stdout",
     "output_type": "stream",
     "text": [
      "The r_value is 0.26\n"
     ]
    },
    {
     "data": {
      "image/png": "[encoded data removed]",
      "text/plain": [
       "<Figure size 432x288 with 1 Axes>"
      ]
     },
     "metadata": {
      "needs_background": "light"
     },
     "output_type": "display_data"
    }
   ],
   "source": [
    "x_values=Southern_df[\"Lat\"].astype(float)\n",
    "y_values=Southern_df[\"Humidity\"].astype(float)\n",
    "r_value=st.pearsonr(x_values,y_values)[0]\n",
    "print(\"The r_value is \"+str(round(r_value,2)))\n",
    "(slope, intercept, rvalue, pvalue, stderr) = st.linregress(x_values, y_values)\n",
    "regress_values = x_values * slope + intercept\n",
    "line_eq = \"y = \" + str(round(slope,2)) + \"x + \" + str(round(intercept,2))\n",
    "plt.scatter(x_values,y_values)\n",
    "plt.plot(x_values,regress_values,\"r-\")\n",
    "plt.annotate(line_eq,(-40,80),fontsize=15,color=\"red\")\n",
    "plt.xlabel(\"Latitude\")\n",
    "plt.ylabel(\"Max Temp\")\n",
    "plt.title(f'Southern Hemisphere - Humidity (%) vs. Latitude Linear Regression')\n",
    "plt.savefig(\"output_data/fig8.png\")\n",
    "plt.show()"
   ]
  },
  {
   "cell_type": "markdown",
   "metadata": {},
   "source": [
    "With the linear regression above, we try to model the relationship between City Latitude from southern hemisphere and its humidity. We can tell from the r-value and the figure that there is very week relation between City Latitude from sountern hemisphere and its humidity.As the latitude goes lower in southern hemisphere,cities' humidity does not show any trend to go higher or lower. "
   ]
  },
  {
   "cell_type": "markdown",
   "metadata": {},
   "source": [
    "####  Northern Hemisphere - Cloudiness (%) vs. Latitude Linear Regression"
   ]
  },
  {
   "cell_type": "code",
   "execution_count": 46,
   "metadata": {},
   "outputs": [
    {
     "name": "stdout",
     "output_type": "stream",
     "text": [
      "The r_value is 0.24\n"
     ]
    },
    {
     "data": {
      "image/png": "[encoded data removed]",
      "text/plain": [
       "<Figure size 432x288 with 1 Axes>"
      ]
     },
     "metadata": {
      "needs_background": "light"
     },
     "output_type": "display_data"
    }
   ],
   "source": [
    "x_values=Northern_df[\"Lat\"].astype(float)\n",
    "y_values=Northern_df[\"Cloudiness\"].astype(float)\n",
    "r_value=st.pearsonr(x_values,y_values)[0]\n",
    "print(\"The r_value is \"+str(round(r_value,2)))\n",
    "(slope, intercept, rvalue, pvalue, stderr) = st.linregress(x_values, y_values)\n",
    "regress_values = x_values * slope + intercept\n",
    "line_eq = \"y = \" + str(round(slope,2)) + \"x + \" + str(round(intercept,2))\n",
    "plt.scatter(x_values,y_values)\n",
    "plt.plot(x_values,regress_values,\"r-\")\n",
    "plt.annotate(line_eq,(40,80),fontsize=15,color=\"red\")\n",
    "plt.xlabel(\"Latitude\")\n",
    "plt.ylabel(\"Max Temp\")\n",
    "plt.title(f'Northern Hemisphere - Cloudiness (%) vs. Latitude Linear Regression')\n",
    "plt.savefig(\"output_data/fig9.png\")\n",
    "plt.show()"
   ]
  },
  {
   "cell_type": "markdown",
   "metadata": {},
   "source": [
    "With the linear regression above, we try to model the relationship between City Latitude from northern hemisphere and its cloudiness. We can tell from the r-value and the figure that there is very week relation between City Latitude from northern hemisphere and its cloudiness.As the latitude goes high in northern hemisphere,cities' cloudiness does not show any trend to go higher or lower. "
   ]
  },
  {
   "cell_type": "markdown",
   "metadata": {},
   "source": [
    "####  Southern Hemisphere - Cloudiness (%) vs. Latitude Linear Regression"
   ]
  },
  {
   "cell_type": "code",
   "execution_count": 55,
   "metadata": {},
   "outputs": [
    {
     "name": "stdout",
     "output_type": "stream",
     "text": [
      "The r_value is 0.04\n"
     ]
    },
    {
     "data": {
      "image/png": "[encoded data removed]",
      "text/plain": [
       "<Figure size 432x288 with 1 Axes>"
      ]
     },
     "metadata": {
      "needs_background": "light"
     },
     "output_type": "display_data"
    }
   ],
   "source": [
    "x_values=Southern_df[\"Lat\"].astype(float)\n",
    "y_values=Southern_df[\"Cloudiness\"].astype(float)\n",
    "r_value=st.pearsonr(x_values,y_values)[0]\n",
    "print(\"The r_value is \"+str(round(r_value,2)))\n",
    "(slope, intercept, rvalue, pvalue, stderr) = st.linregress(x_values, y_values)\n",
    "regress_values = x_values * slope + intercept\n",
    "line_eq = \"y = \" + str(round(slope,2)) + \"x + \" + str(round(intercept,2))\n",
    "plt.scatter(x_values,y_values)\n",
    "plt.plot(x_values,regress_values,\"r-\")\n",
    "plt.annotate(line_eq,(-40,80),fontsize=15,color=\"red\")\n",
    "plt.xlabel(\"Latitude\")\n",
    "plt.ylabel(\"Max Temp\")\n",
    "plt.title(f'Southern Hemisphere - Cloudiness (%) vs. Latitude Linear Regression')\n",
    "plt.savefig(\"output_data/fig10.png\")\n",
    "plt.show()"
   ]
  },
  {
   "cell_type": "markdown",
   "metadata": {},
   "source": [
    "With the linear regression above, we try to model the relationship between City Latitude from southern hemisphere and its cloudiness. We can tell from the r-value and the figure that there is none relation between City Latitude from southern hemisphere and its cloudiness.As the latitude goes lower in southern hemisphere,cities' cloudiness does not show any trend to go higher or lower. "
   ]
  },
  {
   "cell_type": "markdown",
   "metadata": {},
   "source": [
    "####  Northern Hemisphere - Wind Speed (mph) vs. Latitude Linear Regression"
   ]
  },
  {
   "cell_type": "code",
   "execution_count": 54,
   "metadata": {},
   "outputs": [
    {
     "name": "stdout",
     "output_type": "stream",
     "text": [
      "The r_value is 0.05\n"
     ]
    },
    {
     "data": {
      "image/png": "[encoded data removed]",
      "text/plain": [
       "<Figure size 432x288 with 1 Axes>"
      ]
     },
     "metadata": {
      "needs_background": "light"
     },
     "output_type": "display_data"
    }
   ],
   "source": [
    "x_values=Northern_df[\"Lat\"].astype(float)\n",
    "y_values=Northern_df[\"Wind Speed\"].astype(float)\n",
    "r_value=st.pearsonr(x_values,y_values)[0]\n",
    "print(\"The r_value is \"+str(round(r_value,2)))\n",
    "(slope, intercept, rvalue, pvalue, stderr) = st.linregress(x_values, y_values)\n",
    "regress_values = x_values * slope + intercept\n",
    "line_eq = \"y = \" + str(round(slope,2)) + \"x + \" + str(round(intercept,2))\n",
    "plt.scatter(x_values,y_values)\n",
    "plt.plot(x_values,regress_values,\"r-\")\n",
    "plt.annotate(line_eq,(40,15),fontsize=15,color=\"red\")\n",
    "plt.xlabel(\"Latitude\")\n",
    "plt.ylabel(\"Max Temp\")\n",
    "plt.title(f'Northern Hemisphere - Wind Speed (mph) vs. Latitude Linear Regression')\n",
    "plt.savefig(\"output_data/fig11.png\")\n",
    "plt.show()"
   ]
  },
  {
   "cell_type": "markdown",
   "metadata": {},
   "source": [
    "With the linear regression above, we try to model the relationship between City Latitude from northern hemisphere and its wind speed. We can tell from the r-value and the figure that there is none relation between City Latitude from northern hemisphere and its wind speed.As the latitude goes high in northern hemisphere,cities' wind speed does not show any trend to go higher or lower."
   ]
  },
  {
   "cell_type": "markdown",
   "metadata": {},
   "source": [
    "####  Southern Hemisphere - Wind Speed (mph) vs. Latitude Linear Regression"
   ]
  },
  {
   "cell_type": "code",
   "execution_count": 53,
   "metadata": {},
   "outputs": [
    {
     "name": "stdout",
     "output_type": "stream",
     "text": [
      "The r_value is -0.42\n"
     ]
    },
    {
     "data": {
      "image/png": "[encoded data removed]",
      "text/plain": [
       "<Figure size 432x288 with 1 Axes>"
      ]
     },
     "metadata": {
      "needs_background": "light"
     },
     "output_type": "display_data"
    }
   ],
   "source": [
    "x_values=Southern_df[\"Lat\"].astype(float)\n",
    "y_values=Southern_df[\"Wind Speed\"].astype(float)\n",
    "r_value=st.pearsonr(x_values,y_values)[0]\n",
    "print(\"The r_value is \"+str(round(r_value,2)))\n",
    "(slope, intercept, rvalue, pvalue, stderr) = st.linregress(x_values, y_values)\n",
    "regress_values = x_values * slope + intercept\n",
    "line_eq = \"y = \" + str(round(slope,2)) + \"x + \" + str(round(intercept,2))\n",
    "plt.scatter(x_values,y_values)\n",
    "plt.plot(x_values,regress_values,\"r-\")\n",
    "plt.annotate(line_eq,(-40,15),fontsize=15,color=\"red\")\n",
    "plt.xlabel(\"Latitude\")\n",
    "plt.ylabel(\"Max Temp\")\n",
    "plt.title(f'Southern Hemisphere - Wind Speed (mph) vs. Latitude Linear Regression')\n",
    "plt.savefig(\"output_data/fig12.png\")\n",
    "plt.show()"
   ]
  },
  {
   "cell_type": "markdown",
   "metadata": {},
   "source": [
    "With the linear regression above, we try to model the relationship between City Latitude from southern hemisphere and its wind speed. We can tell from the r-value and the figure that there is week relation between City Latitude from southern hemisphere and its windspeed.As the latitude goes lower in southern hemisphere,cities' wind speed tend to go a little bit lower but not very significantly."
   ]
  },
  {
   "cell_type": "code",
   "execution_count": null,
   "metadata": {},
   "outputs": [],
   "source": []
  },
  {
   "cell_type": "code",
   "execution_count": null,
   "metadata": {},
   "outputs": [],
   "source": []
  }
 ],
 "metadata": {
  "anaconda-cloud": {},
  "kernel_info": {
   "name": "python3"
  },
  "kernelspec": {
   "display_name": "Python 3",
   "language": "python",
   "name": "python3"
  },
  "language_info": {
   "codemirror_mode": {
    "name": "ipython",
    "version": 3
   },
   "file_extension": ".py",
   "mimetype": "text/x-python",
   "name": "python",
   "nbconvert_exporter": "python",
   "pygments_lexer": "ipython3",
   "version": "3.6.10"
  },
  "latex_envs": {
   "LaTeX_envs_menu_present": true,
   "autoclose": false,
   "autocomplete": true,
   "bibliofile": "biblio.bib",
   "cite_by": "apalike",
   "current_citInitial": 1,
   "eqLabelWithNumbers": true,
   "eqNumInitial": 1,
   "hotkeys": {
    "equation": "Ctrl-E",
    "itemize": "Ctrl-I"
   },
   "labels_anchors": false,
   "latex_user_defs": false,
   "report_style_numbering": false,
   "user_envs_cfg": false
  },
  "nteract": {
   "version": "0.12.3"
  }
 },
 "nbformat": 4,
 "nbformat_minor": 2
}
